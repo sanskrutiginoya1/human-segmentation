{
  "nbformat": 4,
  "nbformat_minor": 0,
  "metadata": {
    "colab": {
      "name": "Human_Segment.ipynb",
      "provenance": [],
      "collapsed_sections": []
    },
    "kernelspec": {
      "name": "python3",
      "display_name": "Python 3"
    }
  },
  "cells": [
    {
      "cell_type": "code",
      "metadata": {
        "id": "Zwqk6UwvUikC",
        "colab_type": "code",
        "colab": {}
      },
      "source": [
        "from google.colab import drive\n",
        "drive.mount('/content/drive')"
      ],
      "execution_count": null,
      "outputs": []
    },
    {
      "cell_type": "code",
      "metadata": {
        "id": "7eqHdmp3Ut32",
        "colab_type": "code",
        "colab": {}
      },
      "source": [
        "!pip install tensorflow==1.14.0"
      ],
      "execution_count": null,
      "outputs": []
    },
    {
      "cell_type": "code",
      "metadata": {
        "id": "fKNzyjSsWsU8",
        "colab_type": "code",
        "colab": {}
      },
      "source": [
        "!wget http://download.tensorflow.org/models/deeplabv3_mnv2_pascal_train_aug_2018_01_29.tar.gz"
      ],
      "execution_count": null,
      "outputs": []
    },
    {
      "cell_type": "code",
      "metadata": {
        "id": "wHGnb1lfWyS0",
        "colab_type": "code",
        "colab": {}
      },
      "source": [
        "!wget http://download.tensorflow.org/models/deeplabv3_pascal_train_aug_2018_01_04.tar.gz"
      ],
      "execution_count": null,
      "outputs": []
    },
    {
      "cell_type": "code",
      "metadata": {
        "id": "zzHFeKJLaBdO",
        "colab_type": "code",
        "colab": {}
      },
      "source": [
        "mkdir mobile_net_model"
      ],
      "execution_count": null,
      "outputs": []
    },
    {
      "cell_type": "code",
      "metadata": {
        "id": "FWGffMenaJH7",
        "colab_type": "code",
        "colab": {}
      },
      "source": [
        "mkdir xception_model"
      ],
      "execution_count": null,
      "outputs": []
    },
    {
      "cell_type": "code",
      "metadata": {
        "id": "ae4IAbx7WL63",
        "colab_type": "code",
        "colab": {}
      },
      "source": [
        "!tar xvzf deeplabv3_mnv2_pascal_train_aug_2018_01_29.tar.gz -C mobile_net_model --strip=1"
      ],
      "execution_count": null,
      "outputs": []
    },
    {
      "cell_type": "code",
      "metadata": {
        "id": "uxueLVFuWdIe",
        "colab_type": "code",
        "colab": {}
      },
      "source": [
        "!tar xvzf deeplabv3_pascal_train_aug_2018_01_04.tar.gz -C xception_model --strip=1"
      ],
      "execution_count": null,
      "outputs": []
    },
    {
      "cell_type": "code",
      "metadata": {
        "id": "JAmKOnqDXQCL",
        "colab_type": "code",
        "colab": {}
      },
      "source": [
        "import os\n",
        "from io import BytesIO\n",
        "import numpy as np\n",
        "from PIL import Image\n",
        "import tensorflow as tf\n",
        "import sys\n",
        "import datetime\n",
        "import cv2\n",
        "from skimage import io\n",
        "from google.colab.patches import cv2_imshow"
      ],
      "execution_count": null,
      "outputs": []
    },
    {
      "cell_type": "code",
      "metadata": {
        "id": "TUjCeqPLXpx-",
        "colab_type": "code",
        "colab": {}
      },
      "source": [
        "class DeepLabModel(object):\n",
        "  \"\"\"Class to load deeplab model and run inference.\"\"\"\n",
        "\n",
        "  INPUT_TENSOR_NAME = 'ImageTensor:0'\n",
        "  OUTPUT_TENSOR_NAME = 'SemanticPredictions:0'\n",
        "  INPUT_SIZE = 513\n",
        "  FROZEN_GRAPH_NAME = 'frozen_inference_graph'\n",
        "\n",
        "  def __init__(self, tarball_path):\n",
        "    \"\"\"Creates and loads pretrained deeplab model.\"\"\"\n",
        "    self.graph = tf.Graph()\n",
        "\n",
        "    graph_def = None\n",
        "    graph_def = tf.GraphDef.FromString(open(tarball_path + \"/frozen_inference_graph.pb\", \"rb\").read()) \n",
        "\n",
        "    if graph_def is None:\n",
        "      raise RuntimeError('Cannot find inference graph in tar archive.')\n",
        "\n",
        "    with self.graph.as_default():\n",
        "      tf.import_graph_def(graph_def, name='')\n",
        "\n",
        "    self.sess = tf.Session(graph=self.graph)\n",
        "\n",
        "  def run(self, image):\n",
        "    \"\"\"Runs inference on a single image.\n",
        "    Args:\n",
        "      image: A PIL.Image object, raw input image.\n",
        "    Returns:\n",
        "      resized_image: RGB image resized from original input image.\n",
        "      seg_map: Segmentation map of `resized_image`.\n",
        "    \"\"\"\n",
        "    start = datetime.datetime.now()\n",
        "\n",
        "    width, height = image.size\n",
        "    print(width, height)\n",
        "    resize_ratio = 1.0 * self.INPUT_SIZE / max(width, height)\n",
        "    target_size = (int(resize_ratio * width), int(resize_ratio * height))\n",
        "    resized_image = image.convert('RGB').resize(target_size, Image.ANTIALIAS)\n",
        "    batch_seg_map = self.sess.run(\n",
        "        self.OUTPUT_TENSOR_NAME,\n",
        "        feed_dict={self.INPUT_TENSOR_NAME: [np.asarray(resized_image)]})\n",
        "    seg_map = batch_seg_map[0]\n",
        "\n",
        "    end = datetime.datetime.now()\n",
        "\n",
        "    diff = end - start\n",
        "    print(\"Time taken to evaluate segmentation is : \" + str(diff))\n",
        "\n",
        "    return resized_image, seg_map\n",
        "\n",
        "def drawSegment(baseImg, matImg):\n",
        "  width, height = baseImg.size\n",
        "  dummyImg = np.zeros([height, width, 4], dtype=np.uint8)\n",
        "  for x in range(width):\n",
        "            for y in range(height):\n",
        "                color = matImg[y,x]\n",
        "                (r,g,b) = baseImg.getpixel((x,y))\n",
        "                if color == 0:\n",
        "                    dummyImg[y,x,3] = 0\n",
        "                else :\n",
        "                    dummyImg[y,x] = [r,g,b,255]\n",
        "  img = Image.fromarray(dummyImg)\n",
        "  w, h = img.size\n",
        "  print(\"w   h\")\n",
        "  print(w, h)\n",
        "  img.save(outputFilePath)\n",
        "  #print(\"Hiiiiiii\")\n",
        "  #cv2_imshow(<img>)\n",
        "  #skimage.io.imshow(img)\n",
        "#inputFilePath = sys.argv[1]\n",
        "#outputFilePath = sys.argv[2]\n",
        "\n",
        "inputFilePath = '/content/drive/My Drive/DeepLab/s5.jpg'\n",
        "outputFilePath = '/content/drive/My Drive/DeepLab/s5_out.png'\n",
        "'''\n",
        "if inputFilePath is None or outputFilePath is None:\n",
        "  print(\"Bad parameters. Please specify input file path and output file path\")\n",
        "  exit()'''\n",
        "\n",
        "modelType = \"xception_model\"\n",
        "'''if len(sys.argv) > 3 and sys.argv[3] == \"1\":\n",
        "  modelType = \"xception_model\"\n",
        "'''\n",
        "MODEL = DeepLabModel(modelType)\n",
        "print('model loaded successfully : ' + modelType)\n",
        "\n",
        "def run_visualization(filepath):\n",
        "  \"\"\"Inferences DeepLab model and visualizes result.\"\"\"\n",
        "  try:\n",
        "  \t#print(\"Trying to open : \" + sys.argv[1])\n",
        "  \t# f = open(sys.argv[1])\n",
        "  \tjpeg_str = open(filepath, \"rb\").read()\n",
        "  \torignal_im = Image.open(BytesIO(jpeg_str))\n",
        "  except IOError:\n",
        "    print('Cannot retrieve image. Please check file: ' + filepath)\n",
        "    return\n",
        "\n",
        "  print('running deeplab on image %s...' % filepath)\n",
        "  resized_im, seg_map = MODEL.run(orignal_im)\n",
        "\n",
        "  # vis_segmentation(resized_im, seg_map)\n",
        "  drawSegment(resized_im, seg_map)\n",
        "\n",
        "run_visualization(inputFilePath)"
      ],
      "execution_count": null,
      "outputs": []
    }
  ]
}